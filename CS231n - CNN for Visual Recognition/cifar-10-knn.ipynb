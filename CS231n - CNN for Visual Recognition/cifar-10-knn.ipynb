{
 "cells": [
  {
   "cell_type": "code",
   "execution_count": 1,
   "metadata": {},
   "outputs": [],
   "source": [
    "import numpy as np\n",
    "import os\n",
    "import pickle\n",
    "import matplotlib.pyplot as plt"
   ]
  },
  {
   "cell_type": "code",
   "execution_count": 2,
   "metadata": {},
   "outputs": [],
   "source": [
    "def loadData(path):\n",
    "    listOfTestFiles = os.listdir(path=path)\n",
    "    train = []\n",
    "    train_labels = []\n",
    "    test = []\n",
    "    test_labels = []\n",
    "        \n",
    "        \n",
    "    print(\"Training files = \",listOfTestFiles[0:6])\n",
    "    #For collecting Training data:\n",
    "    for file in listOfTestFiles[0:6]:\n",
    "        print(path+file)\n",
    "        with open(path+file,'rb') as fo:\n",
    "            dict = pickle.load(fo, encoding='latin1')\n",
    "            train.append(dict['data'])\n",
    "            train_labels.append(dict['labels'])\n",
    "\n",
    "    print(listOfTestFiles[4])\n",
    "    #for collecting Testing data\n",
    "    with open(path+listOfTestFiles[4],'rb') as fo:\n",
    "            dict = pickle.load(fo,encoding='latin1')\n",
    "            test.append(dict['data'])\n",
    "            test_labels.append(dict['labels'])\n",
    "\n",
    "    dictData = {}\n",
    "    dictData['train_data'] = np.reshape(np.array(train),newshape=(np.array(train).shape[0]*np.array(train).shape[1],np.array(train).shape[2]))\n",
    "    dictData['train_labels'] = np.reshape(np.array(train_labels),newshape=(np.array(train_labels).shape[0]*np.array(train_labels).shape[1]))\n",
    "    dictData['test_data'] = np.reshape(np.array(test),newshape=(np.array(test).shape[0]*np.array(test).shape[1],np.array(test).shape[2]))\n",
    "    dictData['test_labels'] = np.reshape(np.array(test_labels),newshape=(np.array(test_labels).shape[0]*np.array(test_labels).shape[1]))\n",
    "    return dictData"
   ]
  },
  {
   "cell_type": "code",
   "execution_count": 3,
   "metadata": {},
   "outputs": [
    {
     "name": "stdout",
     "output_type": "stream",
     "text": [
      "Training files =  ['data_batch_1', 'data_batch_2', 'data_batch_5', 'data_batch_4', 'data_batch_3']\n",
      "./cifar-10-batches-py/data_batch_1\n",
      "./cifar-10-batches-py/data_batch_2\n",
      "./cifar-10-batches-py/data_batch_5\n",
      "./cifar-10-batches-py/data_batch_4\n",
      "./cifar-10-batches-py/data_batch_3\n",
      "data_batch_3\n"
     ]
    }
   ],
   "source": [
    "dataset = loadData(path='../cifar-10-batches-py/')"
   ]
  },
  {
   "cell_type": "code",
   "execution_count": 4,
   "metadata": {},
   "outputs": [
    {
     "data": {
      "image/png": "[encoded data removed]",
      "text/plain": [
       "<Figure size 640x480 with 1 Axes>"
      ]
     },
     "metadata": {},
     "output_type": "display_data"
    }
   ],
   "source": [
    "temp = dataset['test_data'][95]\n",
    "\n",
    "R = temp[0:1024].reshape(32,32)\n",
    "G = np.reshape(temp[1024:2048],newshape=(32,32))\n",
    "B = np.reshape(temp[2048:],newshape=(32,32))\n",
    "temp = np.dstack((R,G,B))   #for stacking all these 32,32 matrices.\n",
    "plt.imshow(temp)\n",
    "plt.show()"
   ]
  },
  {
   "cell_type": "code",
   "execution_count": 5,
   "metadata": {},
   "outputs": [],
   "source": [
    "x_train,y_train, x_test, y_test = dataset['train_data'],dataset['train_labels'],dataset['test_data'],dataset['test_labels']"
   ]
  },
  {
   "cell_type": "code",
   "execution_count": 6,
   "metadata": {},
   "outputs": [
    {
     "name": "stdout",
     "output_type": "stream",
     "text": [
      "No. of training samples =  40000\n",
      "No. of validation set samples =  10000\n"
     ]
    }
   ],
   "source": [
    "train_x,train_y = x_train[0:40000],y_train[0:40000]\n",
    "val_x, val_y = x_train[40000:],y_train[40000:]\n",
    "\n",
    "print(\"No. of training samples = \",train_x.shape[0])\n",
    "print(\"No. of validation set samples = \",val_x.shape[0])"
   ]
  },
  {
   "cell_type": "code",
   "execution_count": 32,
   "metadata": {},
   "outputs": [],
   "source": [
    "class KNN_Clasifier(object):\n",
    "    def __init__(self, distance=\"L1\"):\n",
    "        self.distance = distance\n",
    "        pass\n",
    "\n",
    "    def train(self, x, y):\n",
    "        self.Xtr = x\n",
    "        self.Ytr = y\n",
    "\n",
    "    def predict(self, x, k):\n",
    "        num_test = x.shape[0]\n",
    "        y_pred = np.zeros(num_test, dtype=self.Ytr.dtype)\n",
    "\n",
    "        for i in range(num_test):\n",
    "            label_count = np.zeros(10,dtype=self.Ytr.dtype)  \n",
    "            if self.distance == \"L1\": \n",
    "                distances = np.sum(np.abs(self.Xtr - x[i, :]), axis=1)\n",
    "            elif self.distance == \"L2\":\n",
    "                distances = np.sqrt(np.sum(np.square(self.Xtr - x[i, :]), axis=1))\n",
    "            else:\n",
    "                throw(\"Distance must be either L1 or L2.\")\n",
    "\n",
    "            idx = np.argpartition(distances,k)\n",
    "\n",
    "            min_ind = idx[:k]\n",
    "            \n",
    "            for j in min_ind:\n",
    "                label_count[int(self.Ytr[j])] += 1\n",
    "            y_pred[i] = np.argmax(label_count)\n",
    "\n",
    "        return y_pred"
   ]
  },
  {
   "cell_type": "markdown",
   "metadata": {},
   "source": [
    "--- \n",
    "Subsampling"
   ]
  },
  {
   "cell_type": "code",
   "execution_count": 28,
   "metadata": {},
   "outputs": [
    {
     "name": "stdout",
     "output_type": "stream",
     "text": [
      "(10000, 3072) (1000, 3072)\n"
     ]
    }
   ],
   "source": [
    "num_training = 10000\n",
    "mask = list(range(num_training))\n",
    "X_train = train_x[mask]\n",
    "y_train = train_y[mask]\n",
    "\n",
    "num_test = 1000\n",
    "mask = list(range(num_test))\n",
    "X_test = train_x[mask]\n",
    "y_test = train_y[mask]\n",
    "\n",
    "X_train = np.reshape(X_train, (X_train.shape[0], -1))\n",
    "X_test = np.reshape(X_test, (X_test.shape[0], -1))\n",
    "print(X_train.shape, X_test.shape)"
   ]
  },
  {
   "cell_type": "code",
   "execution_count": 29,
   "metadata": {},
   "outputs": [],
   "source": [
    "knn = KNN_Clasifier()\n",
    "knn.train(X_train, y_train)"
   ]
  },
  {
   "cell_type": "code",
   "execution_count": 30,
   "metadata": {},
   "outputs": [
    {
     "name": "stdout",
     "output_type": "stream",
     "text": [
      "Got with k:5 => accuracy: 0.350000\n"
     ]
    }
   ],
   "source": [
    "yte_predict = knn.predict(X_test, 5)\n",
    "print('Got with k:%d => accuracy: %f' % (5, np.mean(yte_predict==y_test)))"
   ]
  },
  {
   "cell_type": "code",
   "execution_count": 33,
   "metadata": {},
   "outputs": [
    {
     "name": "stdout",
     "output_type": "stream",
     "text": [
      "Got with k:5 => accuracy: 0.373000\n"
     ]
    }
   ],
   "source": [
    "knn = KNN_Clasifier(distance=\"L2\")\n",
    "knn.train(X_train, y_train)\n",
    "yte_predict = knn.predict(X_test, 5)\n",
    "print('Got with k:%d => accuracy: %f' % (5, np.mean(yte_predict==y_test)))"
   ]
  },
  {
   "cell_type": "code",
   "execution_count": 34,
   "metadata": {},
   "outputs": [],
   "source": [
    "num_folds = 5\n",
    "k_choices = [1, 10, 20]\n",
    "\n",
    "X_train_folds = []\n",
    "y_train_folds = []"
   ]
  },
  {
   "cell_type": "code",
   "execution_count": 35,
   "metadata": {},
   "outputs": [],
   "source": [
    "X_train_folds = np.array_split(X_train,num_folds)\n",
    "y_train_folds = np.array_split(y_train,num_folds)\n",
    "k_to_accuracies = {}"
   ]
  },
  {
   "cell_type": "code",
   "execution_count": 36,
   "metadata": {},
   "outputs": [
    {
     "name": "stdout",
     "output_type": "stream",
     "text": [
      "For k: 1 On fold [1/5] - Accuracy: 0.3705\n",
      "For k: 1 On fold [2/5] - Accuracy: 0.3785\n",
      "For k: 1 On fold [3/5] - Accuracy: 0.3885\n",
      "For k: 1 On fold [4/5] - Accuracy: 0.3715\n",
      "For k: 1 On fold [5/5] - Accuracy: 0.39\n",
      "For k: 10 On fold [1/5] - Accuracy: 0.3705\n",
      "For k: 10 On fold [2/5] - Accuracy: 0.3785\n",
      "For k: 10 On fold [3/5] - Accuracy: 0.3885\n",
      "For k: 10 On fold [4/5] - Accuracy: 0.3715\n",
      "For k: 10 On fold [5/5] - Accuracy: 0.39\n",
      "For k: 20 On fold [1/5] - Accuracy: 0.3705\n",
      "For k: 20 On fold [2/5] - Accuracy: 0.3785\n",
      "For k: 20 On fold [3/5] - Accuracy: 0.3885\n",
      "For k: 20 On fold [4/5] - Accuracy: 0.3715\n",
      "For k: 20 On fold [5/5] - Accuracy: 0.39\n",
      "Printing our 5-fold accuracies for varying values of k:\n",
      "\n",
      "k = 1, accuracy = 0.370500\n",
      "k = 1, accuracy = 0.378500\n",
      "k = 1, accuracy = 0.388500\n",
      "k = 1, accuracy = 0.371500\n",
      "k = 1, accuracy = 0.390000\n",
      "k = 10, accuracy = 0.370500\n",
      "k = 10, accuracy = 0.378500\n",
      "k = 10, accuracy = 0.388500\n",
      "k = 10, accuracy = 0.371500\n",
      "k = 10, accuracy = 0.390000\n",
      "k = 20, accuracy = 0.370500\n",
      "k = 20, accuracy = 0.378500\n",
      "k = 20, accuracy = 0.388500\n",
      "k = 20, accuracy = 0.371500\n",
      "k = 20, accuracy = 0.390000\n"
     ]
    }
   ],
   "source": [
    "for k in k_choices:\n",
    "    k_to_accuracies[k] = []\n",
    "    for num_knn in range(0, num_folds):\n",
    "        X_test = X_train_folds[num_knn]\n",
    "        y_test = y_train_folds[num_knn]\n",
    "        X_train = X_train_folds\n",
    "        y_train = y_train_folds\n",
    "\n",
    "        temp = np.delete(X_train,num_knn,0)\n",
    "        X_train = np.concatenate((temp),axis = 0)\n",
    "        y_train = np.delete(y_train,num_knn,0)\n",
    "        y_train = np.concatenate((y_train),axis = 0)\n",
    "\n",
    "        classifier = KNN_Clasifier()\n",
    "        classifier.train(X_train, y_train)\n",
    "        y_test_pred = classifier.predict(X_test, k)\n",
    "\n",
    "        yte_predict = knn.predict(X_test, 5)\n",
    "        accuracy = np.mean(yte_predict==y_test)\n",
    "        print(f\"For k: {k} On fold [{num_knn + 1}/{num_folds}] - Accuracy: {accuracy}\")\n",
    "#         print('Got %d / %d correct => accuracy: %f' % (num_correct, num_test, accuracy))\n",
    "        k_to_accuracies[k].append(accuracy)\n",
    "\n",
    "print(\"Printing our 5-fold accuracies for varying values of k:\")\n",
    "print()\n",
    "for k in sorted(k_to_accuracies):\n",
    "    for accuracy in k_to_accuracies[k]:\n",
    "        print('k = %d, accuracy = %f' % (k, accuracy))"
   ]
  }
 ],
 "metadata": {
  "kernelspec": {
   "display_name": "Python 3",
   "language": "python",
   "name": "python3"
  },
  "language_info": {
   "codemirror_mode": {
    "name": "ipython",
    "version": 3
   },
   "file_extension": ".py",
   "mimetype": "text/x-python",
   "name": "python",
   "nbconvert_exporter": "python",
   "pygments_lexer": "ipython3",
   "version": "3.10.10"
  },
  "orig_nbformat": 4
 },
 "nbformat": 4,
 "nbformat_minor": 2
}
