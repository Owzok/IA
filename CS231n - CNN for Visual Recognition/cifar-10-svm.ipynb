{
 "cells": [
  {
   "cell_type": "code",
   "execution_count": 34,
   "metadata": {},
   "outputs": [],
   "source": [
    "import numpy as np\n",
    "import os\n",
    "import pickle\n",
    "import matplotlib.pyplot as plt"
   ]
  },
  {
   "cell_type": "code",
   "execution_count": 35,
   "metadata": {},
   "outputs": [],
   "source": [
    "def loadData(path):\n",
    "    listOfTestFiles = os.listdir(path=path)\n",
    "    train = []\n",
    "    train_labels = []\n",
    "    test = []\n",
    "    test_labels = []\n",
    "        \n",
    "        \n",
    "    print(\"Training files = \",listOfTestFiles[0:6])\n",
    "    #For collecting Training data:\n",
    "    for file in listOfTestFiles[0:6]:\n",
    "        print(path+file)\n",
    "        with open(path+file,'rb') as fo:\n",
    "            dict = pickle.load(fo, encoding='latin1')\n",
    "            train.append(dict['data'])\n",
    "            train_labels.append(dict['labels'])\n",
    "\n",
    "    print(listOfTestFiles[4])\n",
    "    #for collecting Testing data\n",
    "    with open(path+listOfTestFiles[4],'rb') as fo:\n",
    "            dict = pickle.load(fo,encoding='latin1')\n",
    "            test.append(dict['data'])\n",
    "            test_labels.append(dict['labels'])\n",
    "\n",
    "    dictData = {}\n",
    "    dictData['train_data'] = np.reshape(np.array(train),newshape=(np.array(train).shape[0]*np.array(train).shape[1],np.array(train).shape[2]))\n",
    "    dictData['train_labels'] = np.reshape(np.array(train_labels),newshape=(np.array(train_labels).shape[0]*np.array(train_labels).shape[1]))\n",
    "    dictData['test_data'] = np.reshape(np.array(test),newshape=(np.array(test).shape[0]*np.array(test).shape[1],np.array(test).shape[2]))\n",
    "    dictData['test_labels'] = np.reshape(np.array(test_labels),newshape=(np.array(test_labels).shape[0]*np.array(test_labels).shape[1]))\n",
    "    return dictData"
   ]
  },
  {
   "cell_type": "code",
   "execution_count": 36,
   "metadata": {},
   "outputs": [
    {
     "name": "stdout",
     "output_type": "stream",
     "text": [
      "Training files =  ['data_batch_1', 'data_batch_2', 'data_batch_5', 'data_batch_4', 'data_batch_3']\n",
      "../cifar-10-batches-py/data_batch_1\n",
      "../cifar-10-batches-py/data_batch_2\n",
      "../cifar-10-batches-py/data_batch_5\n",
      "../cifar-10-batches-py/data_batch_4\n",
      "../cifar-10-batches-py/data_batch_3\n",
      "data_batch_3\n"
     ]
    }
   ],
   "source": [
    "dataset = loadData(path='../cifar-10-batches-py/')"
   ]
  },
  {
   "cell_type": "code",
   "execution_count": 37,
   "metadata": {},
   "outputs": [
    {
     "data": {
      "image/png": "[encoded data removed]",
      "text/plain": [
       "<Figure size 640x480 with 1 Axes>"
      ]
     },
     "metadata": {},
     "output_type": "display_data"
    }
   ],
   "source": [
    "temp = dataset['test_data'][128]\n",
    "\n",
    "R = temp[0:1024].reshape(32,32)\n",
    "G = np.reshape(temp[1024:2048],newshape=(32,32))\n",
    "B = np.reshape(temp[2048:],newshape=(32,32))\n",
    "temp = np.dstack((R,G,B))   #for stacking all these 32,32 matrices.\n",
    "plt.imshow(temp)\n",
    "plt.show()"
   ]
  },
  {
   "cell_type": "code",
   "execution_count": 38,
   "metadata": {},
   "outputs": [],
   "source": [
    "x_train,y_train, x_test, y_test = dataset['train_data'],dataset['train_labels'],dataset['test_data'],dataset['test_labels']"
   ]
  },
  {
   "cell_type": "markdown",
   "metadata": {},
   "source": [
    "$$J(w) = \\frac{1}{2} ||w||^2 + C[ \\frac{1}{N} \\sum_i^n max(0, 1 - y_i * (w\\cdot x_i + b))]$$"
   ]
  },
  {
   "cell_type": "markdown",
   "metadata": {},
   "source": [
    "$$\\Delta_w J(w) = \\frac{1}{N} \\sum_i^n \\\\ w \\qquad \\qquad \\text{if max}(0, 1 - y_i * (w \\cdot x_i)) = 0 \\\\ w - Cy_i x_i \\qquad \\qquad \\qquad \\quad \\qquad \\text{ otherwise}$$"
   ]
  },
  {
   "cell_type": "code",
   "execution_count": 39,
   "metadata": {},
   "outputs": [],
   "source": [
    "class SVM():\n",
    "    def __init__(self, delta=1.0, learning_rate=0.0001, epochs=1000, epsilon=0.0000001):\n",
    "        self.delta = delta\n",
    "        self.w = 0\n",
    "        self.b = 0\n",
    "        self.c = 1\n",
    "\n",
    "        self.alpha = learning_rate\n",
    "        self.epsilon = epsilon\n",
    "        self.epochs = epochs\n",
    "\n",
    "    def hinge_loss(self, x, y):\n",
    "        \"\"\"Hinge Loss\n",
    "        - x: Feature vector for the n-dimensional array.\n",
    "        - y: True class label for the example, scalar.\n",
    "        - w: Matrix of a n-dimensional vector for each class.\n",
    "        - delta: Scalar, hyperparameter.\n",
    "        \"\"\"\n",
    "        scores = np.dot(x, self.w) + self.b\n",
    "        margins = np.maximum(0, scores - scores[y] + self.delta)\n",
    "        margins[y] = 0\n",
    "        loss_i = np.sum(margins)\n",
    "        return loss_i\n",
    "\n",
    "    def fit(self, X, y):\n",
    "        self.w = np.zeros(X.shape[1])\n",
    "        self.b = 0\n",
    "        for i in range(self.epochs):\n",
    "            if i % 10 == 0:\n",
    "                print(f\"Iter [{i}/{self.epochs}]\", end=\"\\r\")\n",
    "            l = self.hinge_loss(X, y)\n",
    "            for idx, x in enumerate(X):\n",
    "                grad_w = 0\n",
    "                grad_b = 0\n",
    "                \n",
    "                distance = y[idx] * (np.matmul(self.w, x.T) + self.b)\n",
    "                if distance > 1:\n",
    "                    grad_w = 0\n",
    "                    grad_b = 0\n",
    "                else:\n",
    "                    grad_w += self.c * y[idx] * x\n",
    "                    grad_b += self.c * y[idx]\n",
    "\n",
    "            self.w = self.w - (self.alpha * self.w) + (self.alpha * grad_w)\n",
    "            self.b = self.b + self.alpha * grad_b\n",
    "\n",
    "        return self.w, self.b\n",
    "\n",
    "    def predict(self, x):\n",
    "        prediction = np.dot(x, self.w[0]) + self.b\n",
    "        return np.sign(prediction)\n",
    "        "
   ]
  },
  {
   "cell_type": "code",
   "execution_count": null,
   "metadata": {},
   "outputs": [],
   "source": [
    "fake_data = {\n",
    "    'x1': [-1.542592, 1.000979, 0.174673, -0.126024, 0.494801, 2.342345, -0.987654, 1.234567, 3.141592, -2.718281, 0.890123, 2.345678, -1.234567, 1.432109, -0.654321, 2.543210, 0.987654, -1.987654, 0.543210, 2.234567],\n",
    "    'x2': [0.512600, -0.539035, 1.001156, 1.813531, 0.165240, -1.234523, 3.456789, 2.345678, 0.987654, -0.123456, 1.234567, -0.987654, 0.543210, 2.543210, -0.987654, 1.543210, -1.234567, 3.543210, 0.654321, 1.654321],\n",
    "    'y': [-1, -1, -1, 1, 1, -1, 1, -1, 1, -1, 1, -1, 1, -1, 1, -1, 1, -1, 1, -1],\n",
    "    'color': ['blue', 'blue', 'blue', 'red', 'red', 'green', 'yellow', 'purple', 'orange', 'black', 'pink', 'magenta', 'brown', 'cyan', 'lavender', 'teal', 'gold', 'peach', 'turquoise', 'maroon']\n",
    "}\n",
    "fake_data = pd.DataFrame(fake_data)\n",
    "fake_data.head(5)"
   ]
  },
  {
   "cell_type": "code",
   "execution_count": 40,
   "metadata": {},
   "outputs": [
    {
     "name": "stdout",
     "output_type": "stream",
     "text": [
      "No. of training samples =  40000\n",
      "No. of validation set samples =  10000\n"
     ]
    }
   ],
   "source": [
    "train_x,train_y = x_train[0:40000],y_train[0:40000]\n",
    "val_x, val_y = x_train[40000:],y_train[40000:]\n",
    "\n",
    "print(\"No. of training samples = \",train_x.shape[0])\n",
    "print(\"No. of validation set samples = \",val_x.shape[0])"
   ]
  },
  {
   "cell_type": "code",
   "execution_count": 41,
   "metadata": {},
   "outputs": [
    {
     "name": "stdout",
     "output_type": "stream",
     "text": [
      "Iter [990/1000]\r"
     ]
    }
   ],
   "source": [
    "svm = SVM()\n",
    "w, b = svm.fit(train_x, train_y)"
   ]
  },
  {
   "cell_type": "code",
   "execution_count": 42,
   "metadata": {},
   "outputs": [
    {
     "data": {
      "text/plain": [
       "(array([0.00796333, 0.01085908, 0.01085908, ..., 0.01592665, 0.01085908,\n",
       "        0.01013514]),\n",
       " 0.0008)"
      ]
     },
     "execution_count": 42,
     "metadata": {},
     "output_type": "execute_result"
    }
   ],
   "source": [
    "w,b"
   ]
  },
  {
   "cell_type": "code",
   "execution_count": 45,
   "metadata": {},
   "outputs": [],
   "source": [
    "temp = train_x[128]"
   ]
  },
  {
   "cell_type": "code",
   "execution_count": 46,
   "metadata": {},
   "outputs": [
    {
     "data": {
      "image/png": "[encoded data removed]",
      "text/plain": [
       "<Figure size 640x480 with 1 Axes>"
      ]
     },
     "metadata": {},
     "output_type": "display_data"
    }
   ],
   "source": [
    "R = temp[0:1024].reshape(32,32)\n",
    "G = np.reshape(temp[1024:2048],newshape=(32,32))\n",
    "B = np.reshape(temp[2048:],newshape=(32,32))\n",
    "temp = np.dstack((R,G,B))   #for stacking all these 32,32 matrices.\n",
    "plt.imshow(temp)\n",
    "plt.show()"
   ]
  },
  {
   "cell_type": "code",
   "execution_count": 49,
   "metadata": {},
   "outputs": [
    {
     "data": {
      "text/plain": [
       "array([1., 1., 1., ..., 1., 1., 1.])"
      ]
     },
     "execution_count": 49,
     "metadata": {},
     "output_type": "execute_result"
    }
   ],
   "source": [
    "svm.predict(dataset['test_data'][128])"
   ]
  }
 ],
 "metadata": {
  "kernelspec": {
   "display_name": "Python 3",
   "language": "python",
   "name": "python3"
  },
  "language_info": {
   "codemirror_mode": {
    "name": "ipython",
    "version": 3
   },
   "file_extension": ".py",
   "mimetype": "text/x-python",
   "name": "python",
   "nbconvert_exporter": "python",
   "pygments_lexer": "ipython3",
   "version": "3.10.10"
  },
  "orig_nbformat": 4
 },
 "nbformat": 4,
 "nbformat_minor": 2
}
