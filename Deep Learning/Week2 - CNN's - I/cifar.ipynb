{
 "cells": [
  {
   "cell_type": "code",
   "execution_count": 43,
   "metadata": {},
   "outputs": [],
   "source": [
    "import torch.nn as nn\n",
    "import torch.nn.functional as F\n",
    "\n",
    "import torch\n",
    "import torchvision\n",
    "import torchvision.transforms as transforms\n",
    "from torchvision import utils"
   ]
  },
  {
   "cell_type": "code",
   "execution_count": 2,
   "metadata": {},
   "outputs": [
    {
     "name": "stdout",
     "output_type": "stream",
     "text": [
      "Files already downloaded and verified\n",
      "Files already downloaded and verified\n"
     ]
    }
   ],
   "source": [
    "transform = transforms.Compose(\n",
    "    [transforms.ToTensor(),\n",
    "     transforms.Normalize((0.5, 0.5, 0.5), (0.5, 0.5, 0.5))])\n",
    "\n",
    "batch_size = 4\n",
    "\n",
    "trainset = torchvision.datasets.CIFAR10(root='./data', train=True,\n",
    "                                        download=True, transform=transform)\n",
    "trainloader = torch.utils.data.DataLoader(trainset, batch_size=batch_size,\n",
    "                                          shuffle=True, num_workers=2)\n",
    "\n",
    "testset = torchvision.datasets.CIFAR10(root='./data', train=False,\n",
    "                                       download=True, transform=transform)\n",
    "testloader = torch.utils.data.DataLoader(testset, batch_size=batch_size,\n",
    "                                         shuffle=False, num_workers=2)\n",
    "\n",
    "classes = ('plane', 'car', 'bird', 'cat',\n",
    "           'deer', 'dog', 'frog', 'horse', 'ship', 'truck')"
   ]
  },
  {
   "cell_type": "code",
   "execution_count": 3,
   "metadata": {},
   "outputs": [
    {
     "data": {
      "image/png": "[encoded data removed]",
      "text/plain": [
       "<Figure size 640x480 with 1 Axes>"
      ]
     },
     "metadata": {},
     "output_type": "display_data"
    },
    {
     "name": "stdout",
     "output_type": "stream",
     "text": [
      "horse ship  ship  dog  \n"
     ]
    }
   ],
   "source": [
    "import matplotlib.pyplot as plt\n",
    "import numpy as np\n",
    "\n",
    "# functions to show an image\n",
    "\n",
    "def imshow(img):\n",
    "    img = img / 2 + 0.5     # unnormalize\n",
    "    npimg = img.numpy()\n",
    "    plt.imshow(np.transpose(npimg, (1, 2, 0)))\n",
    "    plt.show()\n",
    "\n",
    "# get some random training images\n",
    "dataiter = iter(trainloader)\n",
    "images, labels = next(dataiter)\n",
    "\n",
    "# show images\n",
    "imshow(torchvision.utils.make_grid(images))\n",
    "# print labels\n",
    "print(' '.join(f'{classes[labels[j]]:5s}' for j in range(batch_size)))"
   ]
  },
  {
   "cell_type": "code",
   "execution_count": 4,
   "metadata": {},
   "outputs": [],
   "source": [
    "class Net(nn.Module):\n",
    "    def __init__(self):\n",
    "        super().__init__()\n",
    "        # nn.Conv2d(in_channels, out_channels, kernel_size)\n",
    "        self.conv1 = nn.Conv2d(3, 6, 5) # resize\n",
    "        # nn.MaxPool2d(kernel_size, stride)\n",
    "        self.pool = nn.MaxPool2d(2, 2) # max pool get max from 2x2 area\n",
    "        self.conv2 = nn.Conv2d(6, 16, 5)\n",
    "        # nn.Linear(in_features, out_features)\n",
    "        self.fc1 = nn.Linear(16 * 5 * 5, 120)\n",
    "        self.fc2 = nn.Linear(120, 84)\n",
    "        self.fc3 = nn.Linear(84, 10)\n",
    "\n",
    "    def forward(self, x):\n",
    "        x = self.pool(F.relu(self.conv1(x)))\n",
    "        x = self.pool(F.relu(self.conv2(x)))\n",
    "        x = torch.flatten(x, 1) # flatten all dimensions except batch\n",
    "        x = F.relu(self.fc1(x))\n",
    "        x = F.relu(self.fc2(x))\n",
    "        x = self.fc3(x)\n",
    "        return x\n",
    "\n",
    "# weight_decay=0.0001 = 38%\n",
    "# momentum = 0.9 = 56%\n",
    "# both: 55%\n",
    "\n",
    "net = Net()"
   ]
  },
  {
   "cell_type": "code",
   "execution_count": 5,
   "metadata": {},
   "outputs": [],
   "source": [
    "import torch.optim as optim\n",
    "\n",
    "criterion = nn.CrossEntropyLoss()\n",
    "optimizer = optim.SGD(net.parameters(), lr=0.001, momentum=0.9, weight_decay=0.0001)"
   ]
  },
  {
   "cell_type": "code",
   "execution_count": 33,
   "metadata": {},
   "outputs": [
    {
     "name": "stdout",
     "output_type": "stream",
     "text": [
      "[1,  2000] loss: 1.963\n",
      "[1,  4000] loss: 1.697\n",
      "[1,  6000] loss: 1.603\n",
      "[1,  8000] loss: 1.524\n",
      "[1, 10000] loss: 1.472\n",
      "[1, 12000] loss: 1.427\n",
      "[2,  2000] loss: 1.353\n",
      "[2,  4000] loss: 1.359\n",
      "[2,  6000] loss: 1.320\n",
      "[2,  8000] loss: 1.344\n",
      "[2, 10000] loss: 1.288\n",
      "[2, 12000] loss: 1.282\n",
      "Finished Training\n"
     ]
    }
   ],
   "source": [
    "for epoch in range(2):  # loop over the dataset multiple times\n",
    "\n",
    "    running_loss = 0.0\n",
    "    for i, data in enumerate(trainloader, 0):\n",
    "        inputs, labels = data\n",
    "\n",
    "        optimizer.zero_grad()\n",
    "\n",
    "        # forward + backward + optimize\n",
    "        outputs = net(inputs)\n",
    "        loss = criterion(outputs, labels)\n",
    "        loss.backward()\n",
    "        optimizer.step()\n",
    "\n",
    "        # print statistics\n",
    "        running_loss += loss.item()\n",
    "        if i % 2000 == 1999:    # print every 2000 mini-batches\n",
    "            print(f'[{epoch + 1}, {i + 1:5d}] loss: {running_loss / 2000:.3f}')\n",
    "            running_loss = 0.0\n",
    "\n",
    "print('Finished Training')"
   ]
  },
  {
   "cell_type": "code",
   "execution_count": 7,
   "metadata": {},
   "outputs": [],
   "source": [
    "PATH = './models/cifar_net_mom_wd.pth'\n",
    "torch.save(net.state_dict(), PATH)"
   ]
  },
  {
   "cell_type": "code",
   "execution_count": 9,
   "metadata": {},
   "outputs": [
    {
     "data": {
      "text/plain": [
       "<All keys matched successfully>"
      ]
     },
     "execution_count": 9,
     "metadata": {},
     "output_type": "execute_result"
    }
   ],
   "source": [
    "net = Net()\n",
    "net.load_state_dict(torch.load(PATH))"
   ]
  },
  {
   "cell_type": "code",
   "execution_count": 10,
   "metadata": {},
   "outputs": [
    {
     "data": {
      "image/png": "[encoded data removed]",
      "text/plain": [
       "<Figure size 640x480 with 1 Axes>"
      ]
     },
     "metadata": {},
     "output_type": "display_data"
    },
    {
     "name": "stdout",
     "output_type": "stream",
     "text": [
      "GroundTruth:  cat   ship  ship  plane\n"
     ]
    }
   ],
   "source": [
    "dataiter = iter(testloader)\n",
    "images, labels = next(dataiter)\n",
    "\n",
    "# print images\n",
    "imshow(torchvision.utils.make_grid(images))\n",
    "print('GroundTruth: ', ' '.join(f'{classes[labels[j]]:5s}' for j in range(4)))"
   ]
  },
  {
   "cell_type": "code",
   "execution_count": 11,
   "metadata": {},
   "outputs": [],
   "source": [
    "outputs = net(images)"
   ]
  },
  {
   "cell_type": "code",
   "execution_count": 12,
   "metadata": {},
   "outputs": [
    {
     "name": "stdout",
     "output_type": "stream",
     "text": [
      "Predicted:  cat   ship  car   ship \n"
     ]
    }
   ],
   "source": [
    "_, predicted = torch.max(outputs, 1)\n",
    "\n",
    "print('Predicted: ', ' '.join(f'{classes[predicted[j]]:5s}'\n",
    "                              for j in range(4)))"
   ]
  },
  {
   "cell_type": "code",
   "execution_count": 13,
   "metadata": {},
   "outputs": [
    {
     "name": "stdout",
     "output_type": "stream",
     "text": [
      "Accuracy of the network on the 10000 test images: 55 %\n"
     ]
    }
   ],
   "source": [
    "correct = 0\n",
    "total = 0\n",
    "# since we're not training, we don't need to calculate the gradients for our outputs\n",
    "with torch.no_grad():\n",
    "    for data in testloader:\n",
    "        images, labels = data\n",
    "        # calculate outputs by running images through the network\n",
    "        outputs = net(images)\n",
    "        # the class with the highest energy is what we choose as prediction\n",
    "        _, predicted = torch.max(outputs.data, 1)\n",
    "        total += labels.size(0)\n",
    "        correct += (predicted == labels).sum().item()\n",
    "\n",
    "print(f'Accuracy of the network on the 10000 test images: {100 * correct // total} %')"
   ]
  },
  {
   "cell_type": "code",
   "execution_count": 14,
   "metadata": {},
   "outputs": [
    {
     "name": "stdout",
     "output_type": "stream",
     "text": [
      "Accuracy for class: plane is 56.8 %\n",
      "Accuracy for class: car   is 70.7 %\n",
      "Accuracy for class: bird  is 49.1 %\n",
      "Accuracy for class: cat   is 21.4 %\n",
      "Accuracy for class: deer  is 61.3 %\n",
      "Accuracy for class: dog   is 41.6 %\n",
      "Accuracy for class: frog  is 67.1 %\n",
      "Accuracy for class: horse is 50.3 %\n",
      "Accuracy for class: ship  is 72.0 %\n",
      "Accuracy for class: truck is 60.2 %\n"
     ]
    }
   ],
   "source": [
    "# prepare to count predictions for each class\n",
    "correct_pred = {classname: 0 for classname in classes}\n",
    "total_pred = {classname: 0 for classname in classes}\n",
    "\n",
    "# again no gradients needed\n",
    "with torch.no_grad():\n",
    "    for data in testloader:\n",
    "        images, labels = data\n",
    "        outputs = net(images)\n",
    "        _, predictions = torch.max(outputs, 1)\n",
    "        # collect the correct predictions for each class\n",
    "        for label, prediction in zip(labels, predictions):\n",
    "            if label == prediction:\n",
    "                correct_pred[classes[label]] += 1\n",
    "            total_pred[classes[label]] += 1\n",
    "\n",
    "\n",
    "# print accuracy for each class\n",
    "for classname, correct_count in correct_pred.items():\n",
    "    accuracy = 100 * float(correct_count) / total_pred[classname]\n",
    "    print(f'Accuracy for class: {classname:5s} is {accuracy:.1f} %')"
   ]
  },
  {
   "cell_type": "code",
   "execution_count": null,
   "metadata": {},
   "outputs": [],
   "source": [
    "def visTensor(tensor, ch=0, allkernels=False, nrow=8, padding=1): \n",
    "        n,c,w,h = tensor.shape\n",
    "\n",
    "        if allkernels: tensor = tensor.view(n*c, -1, w, h)\n",
    "        elif c != 3: tensor = tensor[:,ch,:,:].unsqueeze(dim=1)\n",
    "\n",
    "        rows = np.min((tensor.shape[0] // nrow + 1, 64))    \n",
    "        grid = utils.make_grid(tensor, nrow=nrow, normalize=True, padding=padding)\n",
    "        plt.figure( figsize=(nrow,rows) )\n",
    "        plt.imshow(grid.numpy().transpose((1, 2, 0)))"
   ]
  },
  {
   "cell_type": "code",
   "execution_count": 41,
   "metadata": {},
   "outputs": [
    {
     "data": {
      "text/plain": [
       "tensor([[[[ 1.2994e-01,  7.7775e-02,  1.3770e-01,  7.8497e-02,  6.4067e-02],\n",
       "          [ 2.4236e-01,  2.1537e-01,  2.2839e-01,  2.4598e-01,  1.5320e-01],\n",
       "          [ 1.7508e-01,  3.1796e-01,  2.8416e-01,  2.3488e-01,  2.3219e-01],\n",
       "          [ 1.2587e-01,  8.0843e-02,  1.8230e-01,  1.6993e-01,  1.9234e-01],\n",
       "          [ 6.2855e-02,  1.4819e-01,  1.4747e-01,  1.9797e-01,  8.0620e-03]],\n",
       "\n",
       "         [[-1.3056e-01, -5.3381e-02, -8.9430e-03, -4.6198e-02,  3.5353e-02],\n",
       "          [-1.8293e-01, -8.7239e-02, -5.3938e-02, -8.5900e-02, -6.3368e-02],\n",
       "          [-1.5942e-01, -1.4529e-01, -1.2702e-01, -4.8936e-02, -1.4580e-02],\n",
       "          [-1.1747e-01, -1.2089e-01, -6.8361e-02,  1.8698e-02, -5.3816e-02],\n",
       "          [-8.4087e-02, -7.6725e-02, -1.9603e-01, -7.3046e-02, -4.9793e-02]],\n",
       "\n",
       "         [[ 6.3809e-02,  1.1628e-01,  1.5742e-01,  2.4883e-01,  1.7345e-01],\n",
       "          [-1.3412e-01, -9.7605e-02, -1.2041e-01,  3.0661e-02, -7.2338e-03],\n",
       "          [-1.5470e-01, -1.6284e-01, -1.7180e-01, -9.3037e-02, -2.1358e-01],\n",
       "          [-5.3638e-02, -7.6453e-03, -1.9828e-02, -1.5721e-01, -1.3109e-01],\n",
       "          [ 2.6727e-03,  1.1780e-01,  1.4201e-01,  1.2605e-02,  2.7074e-02]]],\n",
       "\n",
       "\n",
       "        [[[-2.9185e-02,  1.8041e-01,  7.6843e-02,  7.7621e-02, -8.1763e-02],\n",
       "          [-1.0770e-01, -2.3572e-01, -1.7711e-01, -3.7696e-01, -3.5439e-01],\n",
       "          [-4.5730e-01, -6.4533e-01, -6.4823e-01, -5.6428e-01, -3.9670e-01],\n",
       "          [ 9.7642e-02,  7.7639e-02,  1.8114e-01,  2.0840e-01,  2.3192e-01],\n",
       "          [ 2.9148e-01,  2.6126e-01,  3.4973e-01,  2.8336e-01,  2.6787e-01]],\n",
       "\n",
       "         [[ 1.6820e-01,  2.5472e-01,  3.8792e-01,  3.0727e-01,  8.6536e-02],\n",
       "          [ 1.1386e-01, -1.8708e-02, -7.3268e-02,  2.2846e-02, -1.5958e-01],\n",
       "          [-3.1061e-01, -3.2212e-01, -3.9623e-01, -4.4405e-01, -1.6272e-01],\n",
       "          [ 1.6448e-01,  1.2947e-01,  1.5167e-01,  1.2117e-01,  2.1630e-01],\n",
       "          [-4.0501e-03,  1.6143e-01,  2.5478e-01,  2.5373e-01,  9.4040e-02]],\n",
       "\n",
       "         [[ 7.7001e-02,  3.1121e-01,  2.5753e-01,  2.5318e-01,  5.6758e-02],\n",
       "          [ 1.5850e-01,  1.7190e-01,  4.7769e-02,  1.4366e-01, -2.6531e-02],\n",
       "          [-1.2425e-01, -3.9219e-01, -4.8426e-01, -4.1130e-01, -2.3604e-01],\n",
       "          [ 1.9214e-02,  1.6583e-01,  1.9213e-01,  6.8497e-02,  7.1847e-02],\n",
       "          [-1.1289e-01,  1.2358e-01,  1.2857e-01,  3.0630e-02, -3.1867e-02]]],\n",
       "\n",
       "\n",
       "        [[[-1.6013e-01, -9.8255e-02, -3.1458e-02,  8.0445e-02,  3.6108e-02],\n",
       "          [-4.2286e-02, -2.2827e-01, -2.1318e-01, -1.0630e-01, -1.8108e-02],\n",
       "          [-1.3851e-01, -2.6912e-01, -1.8380e-01, -1.1013e-01,  2.1122e-02],\n",
       "          [-1.6528e-01, -1.8767e-01, -1.4888e-01,  3.1211e-03, -8.3632e-03],\n",
       "          [-2.4412e-01, -2.6958e-01, -1.9376e-01, -1.7748e-03,  3.0585e-02]],\n",
       "\n",
       "         [[ 6.4147e-03,  2.8506e-02, -3.6730e-02,  5.3967e-02, -1.6062e-01],\n",
       "          [-3.8942e-02,  7.8651e-02,  5.0573e-03,  1.1352e-01,  1.4269e-02],\n",
       "          [-1.2623e-01,  9.5126e-02,  1.2854e-01,  1.5568e-01,  3.5151e-02],\n",
       "          [-9.5199e-02,  6.8060e-02,  1.1910e-01,  1.3371e-01, -4.4832e-02],\n",
       "          [ 4.5372e-02, -5.5198e-02,  7.1951e-02,  3.8877e-02, -5.4425e-03]],\n",
       "\n",
       "         [[-1.0490e-02,  1.7863e-01,  2.4830e-01,  1.2556e-01,  1.6985e-01],\n",
       "          [ 2.4548e-02,  1.5596e-01,  3.2291e-01,  2.5723e-01,  5.8167e-02],\n",
       "          [ 1.0613e-01,  1.3547e-01,  2.6177e-01,  1.9087e-01,  6.3876e-02],\n",
       "          [ 7.0299e-02,  1.3673e-01,  1.4885e-01,  2.0361e-01,  7.7590e-02],\n",
       "          [-1.0390e-01,  1.6944e-01,  2.5677e-01,  1.7845e-01,  1.2602e-03]]],\n",
       "\n",
       "\n",
       "        [[[ 6.0798e-02,  2.8200e-01,  3.2759e-01,  6.5846e-02,  1.8275e-01],\n",
       "          [ 1.6189e-01,  1.5611e-01,  4.2791e-01,  2.8825e-01,  2.9076e-01],\n",
       "          [ 5.9976e-02, -1.3731e-01,  4.7403e-02, -5.1370e-02,  4.8028e-02],\n",
       "          [-4.7918e-02, -1.2715e-01, -2.5358e-01, -1.0670e-01,  2.8269e-02],\n",
       "          [-1.4500e-01, -2.9247e-01, -3.6448e-01, -4.0050e-01, -3.3999e-01]],\n",
       "\n",
       "         [[-1.1727e-01,  1.9988e-01,  2.3165e-01,  1.9317e-01,  7.8315e-02],\n",
       "          [ 2.7270e-02,  2.9138e-02,  1.9014e-01,  1.4785e-01,  1.5856e-01],\n",
       "          [-2.0917e-01, -1.0964e-01, -2.5805e-01, -1.5935e-01,  5.8209e-02],\n",
       "          [ 3.8384e-02, -1.6255e-01, -2.8002e-01, -2.3282e-01,  1.6670e-02],\n",
       "          [-6.7762e-02, -8.0061e-04, -2.8243e-01, -3.1422e-01, -1.2865e-01]],\n",
       "\n",
       "         [[-5.5058e-02,  7.2195e-02, -3.8242e-02,  1.9426e-02, -4.8476e-02],\n",
       "          [ 5.0022e-02,  1.8316e-01,  2.3275e-01,  6.9209e-02, -1.9249e-02],\n",
       "          [-9.0233e-02, -6.0272e-02,  5.3089e-02, -1.0755e-01,  6.7169e-03],\n",
       "          [ 3.2187e-02, -1.7441e-02, -3.6911e-02,  1.1850e-01,  1.0708e-01],\n",
       "          [ 2.0559e-01,  1.5208e-01,  5.8721e-02, -4.6282e-02,  5.9528e-02]]],\n",
       "\n",
       "\n",
       "        [[[-3.3315e-02, -1.3584e-02, -1.4532e-01, -3.7667e-02,  5.5503e-02],\n",
       "          [ 8.7317e-02,  2.3957e-01, -1.3492e-01, -3.3604e-01,  3.1061e-02],\n",
       "          [ 4.8931e-02,  3.7464e-01,  1.1583e-01, -4.8281e-01,  6.8489e-02],\n",
       "          [-1.2594e-01,  3.0024e-01,  2.5625e-01, -2.7524e-01,  6.6634e-02],\n",
       "          [ 6.6646e-02, -1.7459e-01,  2.1803e-01,  1.9185e-01, -3.9943e-02]],\n",
       "\n",
       "         [[ 1.5488e-01,  1.2923e-01, -9.9578e-02,  1.3733e-01,  8.2981e-02],\n",
       "          [ 9.5831e-02,  4.3054e-01,  5.1032e-02, -1.6206e-01,  1.9861e-01],\n",
       "          [ 1.6814e-01,  6.0505e-01,  1.6369e-01, -4.2943e-01,  2.7731e-01],\n",
       "          [ 7.6522e-02,  3.3946e-01,  3.8694e-01, -1.7803e-01,  4.6091e-02],\n",
       "          [ 1.4620e-01, -6.3688e-02,  3.2221e-01,  8.8746e-02,  1.5874e-02]],\n",
       "\n",
       "         [[-2.0229e-01,  2.6158e-04, -2.4295e-01, -1.1979e-01, -9.0619e-02],\n",
       "          [-5.6204e-02,  1.2066e-02, -1.8588e-01, -2.9699e-01,  1.5105e-01],\n",
       "          [-1.4310e-01,  2.8002e-01, -2.4877e-03, -5.3523e-01,  3.2412e-02],\n",
       "          [-1.7236e-01, -4.0967e-02,  1.4291e-01, -2.4839e-01,  2.1039e-02],\n",
       "          [-1.0243e-01, -2.9930e-01,  2.7998e-02, -3.6524e-02, -2.1049e-01]]],\n",
       "\n",
       "\n",
       "        [[[ 4.0512e-01, -6.1423e-02, -8.2918e-02,  7.4839e-02,  1.5557e-01],\n",
       "          [ 1.6940e-01, -3.5879e-01, -1.9026e-01,  1.6987e-01,  2.2877e-01],\n",
       "          [-1.9154e-02, -5.1888e-01, -4.8632e-02,  4.3528e-01,  1.0660e-01],\n",
       "          [ 6.4864e-02, -4.5753e-01,  1.1332e-01,  2.8148e-01,  6.5309e-02],\n",
       "          [ 1.0089e-01, -1.8867e-01,  8.3596e-02,  7.5224e-02, -9.6169e-03]],\n",
       "\n",
       "         [[ 9.8585e-02, -3.1043e-01, -2.9816e-01, -4.6975e-02,  4.0328e-02],\n",
       "          [ 5.1263e-02, -4.8390e-01, -3.0748e-01,  2.1291e-01,  2.0266e-01],\n",
       "          [-1.4854e-03, -6.3461e-01, -1.8682e-01,  4.5507e-01,  1.4391e-01],\n",
       "          [-8.3661e-02, -5.2836e-01,  8.4333e-02,  2.1577e-01,  5.8144e-03],\n",
       "          [-7.3832e-04, -2.2501e-01, -1.1045e-02,  9.6341e-02, -1.0536e-01]],\n",
       "\n",
       "         [[ 1.7380e-01, -1.7850e-01, -2.5592e-01, -3.3723e-02, -2.0450e-02],\n",
       "          [ 1.6617e-01, -5.2004e-01, -1.8093e-01,  3.3730e-01,  2.6374e-01],\n",
       "          [ 1.3618e-02, -5.1951e-01, -7.9085e-03,  4.7879e-01,  1.0910e-01],\n",
       "          [-6.9307e-02, -3.4896e-01,  2.0332e-01,  3.4227e-01,  5.4594e-02],\n",
       "          [ 7.0231e-02, -3.5466e-02,  1.0611e-01,  2.6879e-01,  1.8003e-01]]]])"
      ]
     },
     "execution_count": 41,
     "metadata": {},
     "output_type": "execute_result"
    }
   ],
   "source": [
    "net._modules['conv1'].weight.data"
   ]
  },
  {
   "cell_type": "code",
   "execution_count": 81,
   "metadata": {},
   "outputs": [
    {
     "name": "stdout",
     "output_type": "stream",
     "text": [
      "torch.Size([6, 3, 5, 5])\n"
     ]
    },
    {
     "data": {
      "image/png": "[encoded data removed]",
      "text/plain": [
       "<Figure size 800x100 with 1 Axes>"
      ]
     },
     "metadata": {},
     "output_type": "display_data"
    }
   ],
   "source": [
    "if __name__ == \"__main__\":\n",
    "        layer = 1\n",
    "        filter = net._modules['conv1'].weight.data.clone()\n",
    "        print(filter.shape)\n",
    "        visTensor(filter, ch=0, allkernels=False)\n",
    "\n",
    "        plt.axis('off')\n",
    "        plt.ioff()\n",
    "        plt.show()"
   ]
  },
  {
   "cell_type": "code",
   "execution_count": 79,
   "metadata": {},
   "outputs": [
    {
     "name": "stdout",
     "output_type": "stream",
     "text": [
      "torch.Size([16, 6, 5, 5])\n"
     ]
    },
    {
     "data": {
      "image/png": "[encoded data removed]",
      "text/plain": [
       "<Figure size 800x300 with 1 Axes>"
      ]
     },
     "metadata": {},
     "output_type": "display_data"
    }
   ],
   "source": [
    "if __name__ == \"__main__\":\n",
    "        layer = 1\n",
    "        filter = net._modules['conv2'].weight.data.clone()\n",
    "        print(filter.shape)\n",
    "        visTensor(filter, ch=1, allkernels=False)\n",
    "\n",
    "        plt.axis('off')\n",
    "        plt.ioff()\n",
    "        plt.show()"
   ]
  },
  {
   "cell_type": "code",
   "execution_count": 78,
   "metadata": {},
   "outputs": [
    {
     "name": "stdout",
     "output_type": "stream",
     "text": [
      "torch.Size([16, 6, 5, 5])\n"
     ]
    },
    {
     "data": {
      "image/png": "[encoded data removed]",
      "text/plain": [
       "<Figure size 800x1300 with 1 Axes>"
      ]
     },
     "metadata": {},
     "output_type": "display_data"
    }
   ],
   "source": [
    "if __name__ == \"__main__\":\n",
    "        layer = 1\n",
    "        filter = net._modules['conv2'].weight.data.clone()\n",
    "        print(filter.shape)\n",
    "        visTensor(filter, ch=0, allkernels=True)\n",
    "\n",
    "        plt.axis('off')\n",
    "        plt.ioff()\n",
    "        plt.show()"
   ]
  },
  {
   "cell_type": "code",
   "execution_count": 53,
   "metadata": {},
   "outputs": [],
   "source": [
    "net = Net()"
   ]
  },
  {
   "cell_type": "code",
   "execution_count": 54,
   "metadata": {},
   "outputs": [
    {
     "data": {
      "image/png": "[encoded data removed]",
      "text/plain": [
       "<Figure size 800x100 with 1 Axes>"
      ]
     },
     "metadata": {},
     "output_type": "display_data"
    }
   ],
   "source": [
    "if __name__ == \"__main__\":\n",
    "        layer = 1\n",
    "        filter = net._modules['conv1'].weight.data.clone()\n",
    "        visTensor(filter, ch=0, allkernels=False)\n",
    "\n",
    "        plt.axis('off')\n",
    "        plt.ioff()\n",
    "        plt.show()"
   ]
  },
  {
   "cell_type": "code",
   "execution_count": 55,
   "metadata": {},
   "outputs": [
    {
     "name": "stdout",
     "output_type": "stream",
     "text": [
      "[1,  2000] loss: 2.246\n",
      "[1,  4000] loss: 1.931\n",
      "[1,  6000] loss: 1.713\n",
      "[1,  8000] loss: 1.616\n",
      "[1, 10000] loss: 1.536\n",
      "[1, 12000] loss: 1.482\n",
      "Finished Training\n"
     ]
    }
   ],
   "source": [
    "import torch.optim as optim\n",
    "\n",
    "criterion = nn.CrossEntropyLoss()\n",
    "optimizer = optim.SGD(net.parameters(), lr=0.001, momentum=0.9, weight_decay=0.0001)\n",
    "\n",
    "for epoch in range(1):\n",
    "    running_loss = 0.0\n",
    "    for i, data in enumerate(trainloader, 0):\n",
    "        inputs, labels = data\n",
    "\n",
    "        optimizer.zero_grad()\n",
    "\n",
    "        # forward + backward + optimize\n",
    "        outputs = net(inputs)\n",
    "        loss = criterion(outputs, labels)\n",
    "        loss.backward()\n",
    "        optimizer.step()\n",
    "\n",
    "        # print statistics\n",
    "        running_loss += loss.item()\n",
    "        if i % 2000 == 1999:    # print every 2000 mini-batches\n",
    "            print(f'[{epoch + 1}, {i + 1:5d}] loss: {running_loss / 2000:.3f}')\n",
    "            running_loss = 0.0\n",
    "\n",
    "print('Finished Training')"
   ]
  },
  {
   "cell_type": "code",
   "execution_count": 56,
   "metadata": {},
   "outputs": [
    {
     "data": {
      "image/png": "[encoded data removed]",
      "text/plain": [
       "<Figure size 800x100 with 1 Axes>"
      ]
     },
     "metadata": {},
     "output_type": "display_data"
    }
   ],
   "source": [
    "if __name__ == \"__main__\":\n",
    "        layer = 1\n",
    "        filter = net._modules['conv1'].weight.data.clone()\n",
    "        visTensor(filter, ch=0, allkernels=False)\n",
    "\n",
    "        plt.axis('off')\n",
    "        plt.ioff()\n",
    "        plt.show()"
   ]
  },
  {
   "cell_type": "code",
   "execution_count": 57,
   "metadata": {},
   "outputs": [
    {
     "name": "stdout",
     "output_type": "stream",
     "text": [
      "[1,  2000] loss: 1.424\n",
      "[1,  4000] loss: 1.404\n",
      "[1,  6000] loss: 1.362\n",
      "[1,  8000] loss: 1.338\n",
      "[1, 10000] loss: 1.297\n",
      "[1, 12000] loss: 1.265\n",
      "Finished Training\n"
     ]
    }
   ],
   "source": [
    "for epoch in range(1):\n",
    "    running_loss = 0.0\n",
    "    for i, data in enumerate(trainloader, 0):\n",
    "        inputs, labels = data\n",
    "\n",
    "        optimizer.zero_grad()\n",
    "\n",
    "        # forward + backward + optimize\n",
    "        outputs = net(inputs)\n",
    "        loss = criterion(outputs, labels)\n",
    "        loss.backward()\n",
    "        optimizer.step()\n",
    "\n",
    "        # print statistics\n",
    "        running_loss += loss.item()\n",
    "        if i % 2000 == 1999:    # print every 2000 mini-batches\n",
    "            print(f'[{epoch + 1}, {i + 1:5d}] loss: {running_loss / 2000:.3f}')\n",
    "            running_loss = 0.0\n",
    "\n",
    "print('Finished Training')"
   ]
  },
  {
   "cell_type": "code",
   "execution_count": 58,
   "metadata": {},
   "outputs": [
    {
     "data": {
      "image/png": "[encoded data removed]",
      "text/plain": [
       "<Figure size 800x100 with 1 Axes>"
      ]
     },
     "metadata": {},
     "output_type": "display_data"
    }
   ],
   "source": [
    "if __name__ == \"__main__\":\n",
    "        layer = 1\n",
    "        filter = net._modules['conv1'].weight.data.clone()\n",
    "        visTensor(filter, ch=0, allkernels=False)\n",
    "\n",
    "        plt.axis('off')\n",
    "        plt.ioff()\n",
    "        plt.show()"
   ]
  },
  {
   "cell_type": "code",
   "execution_count": 59,
   "metadata": {},
   "outputs": [
    {
     "name": "stdout",
     "output_type": "stream",
     "text": [
      "[1,  2000] loss: 1.233\n",
      "[1,  4000] loss: 1.219\n",
      "[1,  6000] loss: 1.197\n",
      "[1,  8000] loss: 1.199\n",
      "[1, 10000] loss: 1.198\n",
      "[1, 12000] loss: 1.176\n",
      "[2,  2000] loss: 1.097\n",
      "[2,  4000] loss: 1.126\n",
      "[2,  6000] loss: 1.112\n",
      "[2,  8000] loss: 1.116\n",
      "[2, 10000] loss: 1.109\n",
      "[2, 12000] loss: 1.099\n",
      "[3,  2000] loss: 1.013\n",
      "[3,  4000] loss: 1.028\n",
      "[3,  6000] loss: 1.052\n",
      "[3,  8000] loss: 1.067\n",
      "[3, 10000] loss: 1.050\n",
      "[3, 12000] loss: 1.070\n",
      "[4,  2000] loss: 0.945\n",
      "[4,  4000] loss: 0.986\n",
      "[4,  6000] loss: 0.991\n",
      "[4,  8000] loss: 0.993\n",
      "[4, 10000] loss: 1.008\n",
      "[4, 12000] loss: 1.005\n",
      "[5,  2000] loss: 0.910\n",
      "[5,  4000] loss: 0.941\n",
      "[5,  6000] loss: 0.951\n",
      "[5,  8000] loss: 0.943\n",
      "[5, 10000] loss: 0.959\n",
      "[5, 12000] loss: 0.957\n",
      "[6,  2000] loss: 0.844\n",
      "[6,  4000] loss: 0.881\n",
      "[6,  6000] loss: 0.935\n",
      "[6,  8000] loss: 0.920\n",
      "[6, 10000] loss: 0.910\n",
      "[6, 12000] loss: 0.934\n",
      "[7,  2000] loss: 0.815\n",
      "[7,  4000] loss: 0.847\n",
      "[7,  6000] loss: 0.878\n",
      "[7,  8000] loss: 0.890\n",
      "[7, 10000] loss: 0.888\n",
      "[7, 12000] loss: 0.906\n",
      "[8,  2000] loss: 0.784\n",
      "[8,  4000] loss: 0.820\n",
      "[8,  6000] loss: 0.844\n",
      "[8,  8000] loss: 0.864\n",
      "[8, 10000] loss: 0.866\n",
      "[8, 12000] loss: 0.860\n",
      "[9,  2000] loss: 0.757\n",
      "[9,  4000] loss: 0.783\n",
      "[9,  6000] loss: 0.821\n",
      "[9,  8000] loss: 0.841\n",
      "[9, 10000] loss: 0.844\n",
      "[9, 12000] loss: 0.857\n",
      "[10,  2000] loss: 0.749\n",
      "[10,  4000] loss: 0.762\n",
      "[10,  6000] loss: 0.802\n",
      "[10,  8000] loss: 0.801\n",
      "[10, 10000] loss: 0.819\n",
      "[10, 12000] loss: 0.823\n",
      "Finished Training\n"
     ]
    }
   ],
   "source": [
    "for epoch in range(10):\n",
    "    running_loss = 0.0\n",
    "    for i, data in enumerate(trainloader, 0):\n",
    "        inputs, labels = data\n",
    "\n",
    "        optimizer.zero_grad()\n",
    "\n",
    "        # forward + backward + optimize\n",
    "        outputs = net(inputs)\n",
    "        loss = criterion(outputs, labels)\n",
    "        loss.backward()\n",
    "        optimizer.step()\n",
    "\n",
    "        # print statistics\n",
    "        running_loss += loss.item()\n",
    "        if i % 2000 == 1999:    # print every 2000 mini-batches\n",
    "            print(f'[{epoch + 1}, {i + 1:5d}] loss: {running_loss / 2000:.3f}')\n",
    "            running_loss = 0.0\n",
    "\n",
    "print('Finished Training')"
   ]
  },
  {
   "cell_type": "code",
   "execution_count": 69,
   "metadata": {},
   "outputs": [
    {
     "data": {
      "image/png": "[encoded data removed]",
      "text/plain": [
       "<Figure size 800x100 with 1 Axes>"
      ]
     },
     "metadata": {},
     "output_type": "display_data"
    }
   ],
   "source": [
    "if __name__ == \"__main__\":\n",
    "        layer = 1\n",
    "        filter = net._modules['conv1'].weight.data.clone()\n",
    "        visTensor(filter, ch=3, allkernels=False)\n",
    "\n",
    "        plt.axis('off')\n",
    "        plt.ioff()\n",
    "        plt.show()"
   ]
  },
  {
   "cell_type": "code",
   "execution_count": 71,
   "metadata": {},
   "outputs": [
    {
     "data": {
      "image/png": "[encoded data removed]",
      "text/plain": [
       "<Figure size 800x300 with 1 Axes>"
      ]
     },
     "metadata": {},
     "output_type": "display_data"
    }
   ],
   "source": [
    "if __name__ == \"__main__\":\n",
    "        layer = 1\n",
    "        filter = net._modules['conv1'].weight.data.clone()\n",
    "        visTensor(filter, ch=3, allkernels=True)\n",
    "\n",
    "        plt.axis('off')\n",
    "        plt.ioff()\n",
    "        plt.show()"
   ]
  }
 ],
 "metadata": {
  "kernelspec": {
   "display_name": "base",
   "language": "python",
   "name": "python3"
  },
  "language_info": {
   "codemirror_mode": {
    "name": "ipython",
    "version": 3
   },
   "file_extension": ".py",
   "mimetype": "text/x-python",
   "name": "python",
   "nbconvert_exporter": "python",
   "pygments_lexer": "ipython3",
   "version": "3.10.10"
  }
 },
 "nbformat": 4,
 "nbformat_minor": 2
}
