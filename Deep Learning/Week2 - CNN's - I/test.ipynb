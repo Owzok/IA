{
 "cells": [
  {
   "cell_type": "code",
   "execution_count": 2,
   "metadata": {},
   "outputs": [],
   "source": [
    "import torch\n",
    "import torch.nn as nn"
   ]
  },
  {
   "cell_type": "code",
   "execution_count": 22,
   "metadata": {},
   "outputs": [
    {
     "name": "stdout",
     "output_type": "stream",
     "text": [
      "Output size: torch.Size([1, 1, 1, 1])\n"
     ]
    }
   ],
   "source": [
    "# Define the input image as a tensor\n",
    "input_image = torch.randn(1, 3, 5, 5)  # batch_size x channels x height x width\n",
    "\n",
    "# Define the convolutional layer\n",
    "conv_layer = nn.Conv2d(in_channels=3, out_channels=1, kernel_size=3, stride=3)\n",
    "\n",
    "# Perform forward pass to get the output\n",
    "output_feature_map = conv_layer(input_image)\n",
    "\n",
    "# Print the output size\n",
    "print(\"Output size:\", output_feature_map.size())"
   ]
  },
  {
   "cell_type": "code",
   "execution_count": 23,
   "metadata": {},
   "outputs": [
    {
     "name": "stdout",
     "output_type": "stream",
     "text": [
      "Shape of weights: torch.Size([1, 3, 3, 3])\n",
      "Weights: Parameter containing:\n",
      "tensor([[[[ 0.0172, -0.1840,  0.0200],\n",
      "          [ 0.0857, -0.0785, -0.0318],\n",
      "          [-0.0077,  0.0365, -0.0182]],\n",
      "\n",
      "         [[-0.1429, -0.1080, -0.0306],\n",
      "          [-0.1391,  0.1104,  0.1806],\n",
      "          [ 0.1485,  0.1319, -0.0816]],\n",
      "\n",
      "         [[ 0.0889,  0.0202, -0.1243],\n",
      "          [ 0.1283,  0.1030, -0.1688],\n",
      "          [ 0.1267, -0.0976,  0.0588]]]], requires_grad=True)\n"
     ]
    }
   ],
   "source": [
    "# Access the weights of the convolutional layer\n",
    "weights = conv_layer.weight\n",
    "\n",
    "# Print the shape of the weights\n",
    "print(\"Shape of weights:\", weights.size())\n",
    "\n",
    "# Print the weights\n",
    "print(\"Weights:\", weights)"
   ]
  }
 ],
 "metadata": {
  "kernelspec": {
   "display_name": "Python 3",
   "language": "python",
   "name": "python3"
  },
  "language_info": {
   "codemirror_mode": {
    "name": "ipython",
    "version": 3
   },
   "file_extension": ".py",
   "mimetype": "text/x-python",
   "name": "python",
   "nbconvert_exporter": "python",
   "pygments_lexer": "ipython3",
   "version": "3.10.10"
  }
 },
 "nbformat": 4,
 "nbformat_minor": 2
}
