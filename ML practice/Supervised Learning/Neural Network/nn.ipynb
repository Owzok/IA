{
 "cells": [
  {
   "cell_type": "code",
   "execution_count": 22,
   "metadata": {},
   "outputs": [],
   "source": [
    "import numpy as np\n",
    "import pandas as pd"
   ]
  },
  {
   "cell_type": "code",
   "execution_count": 23,
   "metadata": {},
   "outputs": [
    {
     "data": {
      "text/html": [
       "<div>\n",
       "<style scoped>\n",
       "    .dataframe tbody tr th:only-of-type {\n",
       "        vertical-align: middle;\n",
       "    }\n",
       "\n",
       "    .dataframe tbody tr th {\n",
       "        vertical-align: top;\n",
       "    }\n",
       "\n",
       "    .dataframe thead th {\n",
       "        text-align: right;\n",
       "    }\n",
       "</style>\n",
       "<table border=\"1\" class=\"dataframe\">\n",
       "  <thead>\n",
       "    <tr style=\"text-align: right;\">\n",
       "      <th></th>\n",
       "      <th>SepalLengthCm</th>\n",
       "      <th>SepalWidthCm</th>\n",
       "      <th>PetalLengthCm</th>\n",
       "      <th>PetalWidthCm</th>\n",
       "      <th>Species</th>\n",
       "    </tr>\n",
       "  </thead>\n",
       "  <tbody>\n",
       "    <tr>\n",
       "      <th>0</th>\n",
       "      <td>5.1</td>\n",
       "      <td>3.5</td>\n",
       "      <td>1.4</td>\n",
       "      <td>0.2</td>\n",
       "      <td>Iris-setosa</td>\n",
       "    </tr>\n",
       "    <tr>\n",
       "      <th>1</th>\n",
       "      <td>4.9</td>\n",
       "      <td>3.0</td>\n",
       "      <td>1.4</td>\n",
       "      <td>0.2</td>\n",
       "      <td>Iris-setosa</td>\n",
       "    </tr>\n",
       "    <tr>\n",
       "      <th>2</th>\n",
       "      <td>4.7</td>\n",
       "      <td>3.2</td>\n",
       "      <td>1.3</td>\n",
       "      <td>0.2</td>\n",
       "      <td>Iris-setosa</td>\n",
       "    </tr>\n",
       "    <tr>\n",
       "      <th>3</th>\n",
       "      <td>4.6</td>\n",
       "      <td>3.1</td>\n",
       "      <td>1.5</td>\n",
       "      <td>0.2</td>\n",
       "      <td>Iris-setosa</td>\n",
       "    </tr>\n",
       "    <tr>\n",
       "      <th>4</th>\n",
       "      <td>5.0</td>\n",
       "      <td>3.6</td>\n",
       "      <td>1.4</td>\n",
       "      <td>0.2</td>\n",
       "      <td>Iris-setosa</td>\n",
       "    </tr>\n",
       "  </tbody>\n",
       "</table>\n",
       "</div>"
      ],
      "text/plain": [
       "   SepalLengthCm  SepalWidthCm  PetalLengthCm  PetalWidthCm      Species\n",
       "0            5.1           3.5            1.4           0.2  Iris-setosa\n",
       "1            4.9           3.0            1.4           0.2  Iris-setosa\n",
       "2            4.7           3.2            1.3           0.2  Iris-setosa\n",
       "3            4.6           3.1            1.5           0.2  Iris-setosa\n",
       "4            5.0           3.6            1.4           0.2  Iris-setosa"
      ]
     },
     "execution_count": 23,
     "metadata": {},
     "output_type": "execute_result"
    }
   ],
   "source": [
    "data = pd.read_csv(\"./Iris.csv\")\n",
    "data.drop([\"Id\"], axis=1, inplace=True)\n",
    "data.head(5)"
   ]
  },
  {
   "cell_type": "code",
   "execution_count": 24,
   "metadata": {},
   "outputs": [],
   "source": [
    "def ReLU(x):\n",
    "    return int(x > 0)\n",
    "\n",
    "def sigmoid(x):\n",
    "    return 1/(1 + np.exp(-x))\n",
    "\n",
    "def deriv_sigmoid(x):\n",
    "    return sigmoid(x)*(1 - sigmoid(x))"
   ]
  },
  {
   "cell_type": "code",
   "execution_count": 33,
   "metadata": {},
   "outputs": [
    {
     "data": {
      "text/plain": [
       "38.05462768008707"
      ]
     },
     "execution_count": 33,
     "metadata": {},
     "output_type": "execute_result"
    }
   ],
   "source": [
    "2**((43-1)/8)"
   ]
  },
  {
   "cell_type": "code",
   "execution_count": 26,
   "metadata": {},
   "outputs": [],
   "source": [
    "class NN:\n",
    "    def __init__(self, input_n, output_n, hidden_layers, hidden_neurons, input_values):\n",
    "        # Layers & Neurons\n",
    "        self.input_layer = np.array(input_values)\n",
    "        self.output_layer = np.zeros((output_n, 1))\n",
    "        self.hidden_layers = []\n",
    "        self.hidden_neurons = hidden_neurons\n",
    "        for i in range(hidden_layers):\n",
    "            self.hidden_layers.append(np.random.uniform(0,1,(hidden_neurons, 1)))\n",
    "        #print(f\"Input Layer: {self.input_layer.shape}\\nOutput Layer: {self.output_layer.shape}\\nHidden layers: {len(self.hidden_layers)}x{self.hidden_layers[0].shape}\\nHidden Neurons: {self.hidden_neurons}\\n\")\n",
    "        self.initialize_weights(input_n, output_n, hidden_layers, hidden_neurons)\n",
    "        \n",
    "    def display_neurons(self):\n",
    "        print(\"Input Layer:\\n\", self.input_layer,\"\\n\")\n",
    "        print(\"Output Layer:\\n\", self.output_layer.T,\"\\n\")\n",
    "\n",
    "    def display_weights(self):\n",
    "        print(\"Input Weights:\\n\",self.input_weights,\"\\n\")\n",
    "        print(\"Output Weights:\\n\",self.output_weights, \"\\n\")\n",
    "        print(\"Hidden Layer Weights:\\n\",self.hidden_layers_weights,\"\\n\")\n",
    "\n",
    "    def initialize_weights(self, input_n, output_n, hidden_layers, hidden_neurons):\n",
    "        self.input_weights = np.random.uniform(0,1,(input_n, hidden_neurons))\n",
    "        self.output_weights = np.random.uniform(0,1,(hidden_neurons, output_n))\n",
    "        self.hidden_layers_weights = []\n",
    "        for i in range(hidden_layers - 1):\n",
    "            self.hidden_layers_weights.append(np.random.uniform(0,1,(hidden_neurons, hidden_neurons)))\n",
    "        #print(f\"Input Weights: {self.input_weights.shape}\\nOutput Weights: {self.output_weights.shape}\\nHidden Layer Weights:\")\n",
    "\n",
    "    def forward_pass(self, input_data):\n",
    "        input_activation = np.dot(input_data, self.input_weights)\n",
    "        for i in range(len(self.hidden_layers)-1):\n",
    "            self.hidden_layers[i] = np.dot(input_activation, self.hidden_layers_weights[i])\n",
    "        self.output_layer = np.dot(self.hidden_layers[-1].T, self.output_weights)\n",
    "    \n",
    "    def backprop(self, target_output):\n",
    "        pass\n",
    "\n",
    "    def update_params(self, learning_rate):\n",
    "        pass"
   ]
  },
  {
   "cell_type": "code",
   "execution_count": 27,
   "metadata": {},
   "outputs": [],
   "source": [
    "neural_net = NN(input_n=4, output_n=3, hidden_layers=1, hidden_neurons=3, input_values=[5.1, 3.5, 1.4, 0.2])"
   ]
  },
  {
   "cell_type": "code",
   "execution_count": 28,
   "metadata": {},
   "outputs": [
    {
     "name": "stdout",
     "output_type": "stream",
     "text": [
      "Input Layer:\n",
      " [5.1 3.5 1.4 0.2] \n",
      "\n",
      "Output Layer:\n",
      " [[0. 0. 0.]] \n",
      "\n",
      "Input Weights:\n",
      " [[0.93230269 0.60258114 0.75063642]\n",
      " [0.99290045 0.23906449 0.28724559]\n",
      " [0.95430837 0.69739797 0.23334993]\n",
      " [0.24349437 0.19791969 0.54969922]] \n",
      "\n",
      "Output Weights:\n",
      " [[0.01765091 0.55294386 0.31780903]\n",
      " [0.9354251  0.97949691 0.92948807]\n",
      " [0.41192765 0.36947999 0.01522872]] \n",
      "\n",
      "Hidden Layer Weights:\n",
      " [] \n",
      "\n"
     ]
    }
   ],
   "source": [
    "neural_net.display_neurons()\n",
    "neural_net.display_weights()"
   ]
  },
  {
   "cell_type": "code",
   "execution_count": 31,
   "metadata": {},
   "outputs": [
    {
     "name": "stdout",
     "output_type": "stream",
     "text": [
      "Input Layer:\n",
      " [5.1 3.5 1.4 0.2] \n",
      "\n",
      "Output Layer:\n",
      " [[0.8292972 ]\n",
      " [1.20517687]\n",
      " [0.72195133]] \n",
      "\n",
      "Input Weights:\n",
      " [[0.93230269 0.60258114 0.75063642]\n",
      " [0.99290045 0.23906449 0.28724559]\n",
      " [0.95430837 0.69739797 0.23334993]\n",
      " [0.24349437 0.19791969 0.54969922]] \n",
      "\n",
      "Output Weights:\n",
      " [[0.01765091 0.55294386 0.31780903]\n",
      " [0.9354251  0.97949691 0.92948807]\n",
      " [0.41192765 0.36947999 0.01522872]] \n",
      "\n",
      "Hidden Layer Weights:\n",
      " [] \n",
      "\n"
     ]
    }
   ],
   "source": [
    "neural_net.forward_pass([5.1, 3.5, 1.4, 0.2])\n",
    "neural_net.display_neurons()\n",
    "neural_net.display_weights()"
   ]
  },
  {
   "cell_type": "code",
   "execution_count": 30,
   "metadata": {},
   "outputs": [],
   "source": [
    "neural_net.backprop(np.array([1,0,0]))\n",
    "neural_net.update_params(0.01)"
   ]
  }
 ],
 "metadata": {
  "kernelspec": {
   "display_name": "Python 3",
   "language": "python",
   "name": "python3"
  },
  "language_info": {
   "codemirror_mode": {
    "name": "ipython",
    "version": 3
   },
   "file_extension": ".py",
   "mimetype": "text/x-python",
   "name": "python",
   "nbconvert_exporter": "python",
   "pygments_lexer": "ipython3",
   "version": "3.10.10"
  },
  "orig_nbformat": 4
 },
 "nbformat": 4,
 "nbformat_minor": 2
}
